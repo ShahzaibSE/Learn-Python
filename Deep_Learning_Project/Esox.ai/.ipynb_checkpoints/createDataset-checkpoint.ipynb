{
 "cells": [
  {
   "cell_type": "code",
   "execution_count": null,
   "metadata": {
    "collapsed": true
   },
   "outputs": [],
   "source": [
    "import numpy as np\n",
    "import pandas as pd\n",
    "import tensorflow as tf\n",
    "from pandas.tseries.offsets import *\n",
    "\n",
    "#http://pandas.pydata.org/pandas-docs/stable/timeseries.html#overview\n",
    "#https://docs.scipy.org/doc/numpy/reference/generated/numpy.repeat.html\n",
    "#http://pandas.pydata.org/pandas-docs/stable/timeseries.html#generating-ranges-of-timestamps\n",
    "#http://pandas.pydata.org/pandas-docs/stable/timeseries.html#dateoffset-objects\n",
    "#http://pandas.pydata.org/pandas-docs/stable/timeseries.html#timeseries-offset-aliases\n",
    "\n",
    "def getEmployeeData(startdatetimecheckin, startdatetimecheckout, count, employeename, label, randomCheckinMinsMean, randomCheckinMinsVariance, randomCheckoutMinsMean, randomCheckoutMinsVariance):\n",
    "    \"This function\"\n",
    "    nameColumn0 = pd.Series(np.array(employeename).repeat(count))\n",
    "\n",
    "    startDatetimeCheckinColumn1 = pd.Series(pd.date_range(startdatetimecheckin, periods=count, freq='B'))\n",
    "    randomMinsList = 10 * np.random.randn(count) + randomCheckinMinsMean\n",
    "    randomMinsSeries = pd.Series(randomMinsList, dtype=int)\n",
    "    for index, val in startDatetimeCheckinColumn1.iteritems():\n",
    "        startDatetimeCheckinColumn1[index] = startDatetimeCheckinColumn1[index] + Minute(randomMinsSeries[index])\n",
    "\n",
    "    startDatetimeCheckoutColumn2 = pd.Series(pd.date_range(startdatetimecheckout, periods=count, freq='B'))\n",
    "    randomMinsList2 = randomCheckoutMinsVariance * np.random.randn(count) + randomCheckoutMinsMean\n",
    "    randomMinsSeries2 = pd.Series(randomMinsList2, dtype=int)\n",
    "    for index, val in startDatetimeCheckoutColumn2.iteritems():\n",
    "        startDatetimeCheckoutColumn2[index] = startDatetimeCheckoutColumn2[index] + Minute(randomMinsSeries2[index])\n",
    "\n",
    "    labelColumn3 = pd.Series(np.array(label).repeat(count))\n",
    "\n",
    "    data = pd.DataFrame({'MemberID': nameColumn0, 'CheckIn': startDatetimeCheckinColumn1, 'CheckOut': startDatetimeCheckoutColumn2, 'HoursWorked': startDatetimeCheckoutColumn2 - startDatetimeCheckinColumn1, 'Class': labelColumn3})\n",
    "    #print(data)\n",
    "    return data\n",
    "\n",
    "\n",
    "punctionalEmployeeData = getEmployeeData('2017-1-2 9:00:00', '2017-1-2 17:00:00', 25, 'Mike', 'punctual', 15, 10, 45, 10)\n",
    "hardWorkerEraticEmployeeData = getEmployeeData('2017-1-2 9:00:00', '2017-1-2 17:00:00', 25, 'Tom', 'hw-eratic', 15, 100, 60, 100)\n",
    "parttimerEmployeeData = getEmployeeData('2017-1-2 9:00:00', '2017-1-2 13:30:00', 25, 'Al', 'parttime', 60, 100, 60, 100)\n",
    "badEmployeeData = getEmployeeData('2017-1-2 9:00:00', '2017-1-2 17:00:00', 25, 'Smith', 'bad', 200, 100, -100, 60)\n",
    "learningData = pd.concat([punctionalEmployeeData, hardWorkerEraticEmployeeData, parttimerEmployeeData, badEmployeeData], ignore_index=True)\n",
    "print(learningData)\n",
    "\n",
    "\n",
    "\n"
   ]
  }
 ],
 "metadata": {
  "anaconda-cloud": {},
  "kernelspec": {
   "display_name": "Python [conda root]",
   "language": "python",
   "name": "conda-root-py"
  },
  "language_info": {
   "codemirror_mode": {
    "name": "ipython",
    "version": 3
   },
   "file_extension": ".py",
   "mimetype": "text/x-python",
   "name": "python",
   "nbconvert_exporter": "python",
   "pygments_lexer": "ipython3",
   "version": "3.5.2"
  }
 },
 "nbformat": 4,
 "nbformat_minor": 1
}
