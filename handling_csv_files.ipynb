{
 "cells": [
  {
   "cell_type": "code",
   "execution_count": 4,
   "metadata": {},
   "outputs": [
    {
     "name": "stdout",
     "output_type": "stream",
     "text": [
      "<_csv.reader object at 0x10b5330b8>\n",
      "[]\n",
      "Enter citizen information:Shahzaib\n"
     ]
    },
    {
     "ename": "ValueError",
     "evalue": "'Shahzaib' is not in list",
     "output_type": "error",
     "traceback": [
      "\u001b[0;31m---------------------------------------------------------------------------\u001b[0m",
      "\u001b[0;31mValueError\u001b[0m                                Traceback (most recent call last)",
      "\u001b[0;32m<ipython-input-4-69a8630090a9>\u001b[0m in \u001b[0;36m<module>\u001b[0;34m()\u001b[0m\n\u001b[1;32m     12\u001b[0m     \u001b[0;31m#Search for a citizen.\u001b[0m\u001b[0;34m\u001b[0m\u001b[0;34m\u001b[0m\u001b[0m\n\u001b[1;32m     13\u001b[0m     \u001b[0mtarget\u001b[0m \u001b[0;34m=\u001b[0m \u001b[0minput\u001b[0m\u001b[0;34m(\u001b[0m\u001b[0;34m\"Enter citizen information:\"\u001b[0m\u001b[0;34m)\u001b[0m\u001b[0;34m\u001b[0m\u001b[0m\n\u001b[0;32m---> 14\u001b[0;31m     \u001b[0mcitizen\u001b[0m \u001b[0;34m=\u001b[0m \u001b[0mcontents_of_data\u001b[0m\u001b[0;34m[\u001b[0m\u001b[0mcontents_of_data\u001b[0m\u001b[0;34m.\u001b[0m\u001b[0mindex\u001b[0m\u001b[0;34m(\u001b[0m\u001b[0mtarget\u001b[0m\u001b[0;34m)\u001b[0m\u001b[0;34m]\u001b[0m\u001b[0;34m\u001b[0m\u001b[0m\n\u001b[0m\u001b[1;32m     15\u001b[0m     \u001b[0mprint\u001b[0m\u001b[0;34m(\u001b[0m\u001b[0;34m\"Citizen:\"\u001b[0m\u001b[0;34m+\u001b[0m\u001b[0;34m\" \"\u001b[0m\u001b[0;34m+\u001b[0m\u001b[0mcitizen\u001b[0m\u001b[0;34m)\u001b[0m\u001b[0;34m\u001b[0m\u001b[0m\n",
      "\u001b[0;31mValueError\u001b[0m: 'Shahzaib' is not in list"
     ]
    }
   ],
   "source": [
    "import csv\n",
    "\n",
    "# Open your csv file.\n",
    "with open(\"citizens.csv\") as citizensData:\n",
    "    _citizensData = csv.reader(citizensData)\n",
    "    print(_citizensData)\n",
    "    contents_of_data = []\n",
    "    for data in _citizensData: \n",
    "        contents_of_data += data\n",
    "    print(contents_of_data)    \n",
    "    \n",
    "    #Search for a citizen.\n",
    "    target = input(\"Enter citizen information:\")\n",
    "    citizen = contents_of_data[contents_of_data.index(target)]\n",
    "    print(\"Citizen:\"+\" \"+citizen)"
   ]
  },
  {
   "cell_type": "code",
   "execution_count": 7,
   "metadata": {},
   "outputs": [
    {
     "name": "stdout",
     "output_type": "stream",
     "text": [
      "<_csv.writer object at 0x10cb9e830>\n"
     ]
    }
   ],
   "source": [
    "import csv\n",
    "# A new CSV file.\n",
    "with open(\"citizens.csv\", \"w\", newline=\"\") as citizenData:  # 'w' mode specifies writing.\n",
    "    data_of_file = csv.writer(citizenData, delimiter=\",\")\n",
    "    data_of_file.writerow([\"1\",\"Shahzaib\",\"24\",\"Karachi\"])\n",
    "    data_of_file.writerow([\"2\",\"Shane\",\"24\",\"Chicago\"])\n",
    "    data_of_file.writerow([\"3\",\"John\",\"24\",\"California\"])\n",
    "    data_of_file.writerow([\"4\",\"Ashley\",\"22\",\"Los Angelos\"])\n",
    "    data_of_file.writerow([\"5\",\"Jane\",\"25\",\"Las Vegas\"])\n",
    "\n",
    "#Appending lines.\n",
    "with open(\"citizens.csv\", \"a\", newline=\"\") as citizenData: # 'a' mode specifies appending.\n",
    "    data_of_file = csv.writer(citizenData, delimiter=\",\")\n",
    "    data_of_file.writerow([\"1\",\"Shawn\",\"24\",\"Chicago\"])\n",
    "    data_of_file.writerow([\"2\",\"Shania\",\"24\",\"Chicago\"])\n",
    "\n",
    "\n",
    "print(data_of_file)\n"
   ]
  },
  {
   "cell_type": "code",
   "execution_count": null,
   "metadata": {
    "collapsed": true
   },
   "outputs": [],
   "source": []
  }
 ],
 "metadata": {
  "kernelspec": {
   "display_name": "Python 3",
   "language": "python",
   "name": "python3"
  },
  "language_info": {
   "codemirror_mode": {
    "name": "ipython",
    "version": 3
   },
   "file_extension": ".py",
   "mimetype": "text/x-python",
   "name": "python",
   "nbconvert_exporter": "python",
   "pygments_lexer": "ipython3",
   "version": "3.5.3"
  }
 },
 "nbformat": 4,
 "nbformat_minor": 2
}
